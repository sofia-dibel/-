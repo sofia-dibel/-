{
 "cells": [
  {
   "cell_type": "code",
   "execution_count": 1,
   "id": "90fbbbc9",
   "metadata": {},
   "outputs": [],
   "source": [
    "import numpy as np\n",
    "import matplotlib.pyplot as plt"
   ]
  },
  {
   "cell_type": "code",
   "execution_count": 4,
   "id": "4ebffcf5",
   "metadata": {},
   "outputs": [],
   "source": [
    "def c0(N, h):\n",
    "    c0 = np.array(0)\n",
    "    j = np.arange(1, N + 1)\n",
    "    c0 = np.append(c0, 2 - (2 * np.exp(j * h) + 2 * np.exp(1 - j * h)) / (1 + np.exp(1)))\n",
    "    c0 = np.append(c0, 0)\n",
    "    return c0"
   ]
  },
  {
   "cell_type": "code",
   "execution_count": 5,
   "id": "b3cbe314",
   "metadata": {},
   "outputs": [],
   "source": [
    "def hgrad(ck, N, h):\n",
    "    gr = np.array(0)\n",
    "    j = np.arange(1, N + 1)\n",
    "    gr = np.append(gr, 2 * ck[j] - ck[j - 1] - ck[j + 1] + np.power(h, 2) * (2 * ck[j] / 3 + ck[j - 1] / 6 + ck[j + 1] / 6) + np.power(h, 2) * np.power(ck[j], 3) * np.sin(j * h) - 2 * np.power(h, 2))\n",
    "    gr = np.append(gr, 0)\n",
    "    return gr"
   ]
  },
  {
   "cell_type": "code",
   "execution_count": 6,
   "id": "2da767d6",
   "metadata": {},
   "outputs": [],
   "source": [
    "def function(c, N, h):\n",
    "    s1 = 0\n",
    "    for j in range(1, N + 1):\n",
    "        s1 += c[j] ** 2 - c[j] * c[j - 1] - c[j] * c[j + 1]\n",
    "    s2 = 0\n",
    "    for j in range(1, N + 1):\n",
    "        s2 += c[j] ** 2 / 3 + c[j] * c[j - 1] / 6 + c[j] * c [j + 1] / 6\n",
    "    s3 = 0\n",
    "    for j in range(1, N + 1):\n",
    "        s3 += c[j] ** 4 * np.sin(j * h)\n",
    "    s4 = 0\n",
    "    for j in range(1, N + 1):\n",
    "        s4 += c[j]\n",
    "    return s1 / h + h * s2 + h * s3 / 4 - 2 * h * s4"
   ]
  },
  {
   "cell_type": "code",
   "execution_count": 7,
   "id": "9d16d03c",
   "metadata": {},
   "outputs": [],
   "source": [
    "def gradient_descent(N, h, eps):\n",
    "    w = 1\n",
    "    ck = c0(N, h)\n",
    "    ck1 = ck - w * hgrad(ck, N, h)\n",
    "    number_of_approximations = 2\n",
    "    count = 0\n",
    "    while function(ck1, N, h) >= function(ck, N, h) and abs(\n",
    "            abs(function(ck, N, h)) - abs(function(ck1, N, h))) >= eps:\n",
    "        count += 1\n",
    "        w = w / 2\n",
    "        ck1 = ck - w * hgrad(ck, N, h)\n",
    "    while abs(abs(function(ck, N, h)) - abs(function(ck1, N, h))) >= eps:\n",
    "        number_of_approximations += 1\n",
    "        w = 1\n",
    "        ck = ck1\n",
    "        ck1 = ck - w * hgrad(ck, N, h)\n",
    "        while function(ck1, N, h) >= function(ck, N, h) and abs(\n",
    "                abs(function(ck, N, h)) - abs(function(ck1, N, h))) >= eps:\n",
    "            count += 1\n",
    "            w = w / 2\n",
    "            ck1 = ck - w * hgrad(ck, N, h)\n",
    "    print(f'Для N = {N}:')\n",
    "    print(f'epsilon = {eps}')\n",
    "    print('Кол-во понадобившихся приближений =', number_of_approximations)\n",
    "    print('Коэффциент релаксации на последнем приближении =', w)\n",
    "    print('Количество раз понижения коэффициента за всю программу:', count)\n",
    "    print()\n",
    "    return ck1"
   ]
  },
  {
   "cell_type": "code",
   "execution_count": 8,
   "id": "04376690",
   "metadata": {},
   "outputs": [
    {
     "name": "stdout",
     "output_type": "stream",
     "text": [
      "Для N = 9:\n",
      "epsilon = 1e-11\n",
      "Кол-во понадобившихся приближений = 2\n",
      "Коэффциент релаксации на последнем приближении = 1.4901161193847656e-08\n",
      "Количество раз понижения коэффициента за всю программу: 26\n",
      "\n"
     ]
    },
    {
     "data": {
      "image/png": "[encoded data removed]",
      "text/plain": [
       "<Figure size 432x288 with 1 Axes>"
      ]
     },
     "metadata": {
      "needs_background": "light"
     },
     "output_type": "display_data"
    }
   ],
   "source": [
    "N = 9\n",
    "x = np.linspace(0, 1, N + 2)  # N + 1 частей отрезка -> N + 2 точек разбиения\n",
    "h = 1 / (N + 1)\n",
    "epsilon = 1e-11\n",
    "u = gradient_descent(N, h, epsilon)\n",
    "plt.plot(x, u, marker='.')\n",
    "plt.xlabel('x')\n",
    "plt.ylabel('u')\n",
    "plt.title(f'Приближенное решение для N = {N}')\n",
    "plt.show()"
   ]
  },
  {
   "cell_type": "code",
   "execution_count": 9,
   "id": "593da139",
   "metadata": {},
   "outputs": [
    {
     "name": "stdout",
     "output_type": "stream",
     "text": [
      "Для N = 99:\n",
      "epsilon = 1e-11\n",
      "Кол-во понадобившихся приближений = 2\n",
      "Коэффциент релаксации на последнем приближении = 7.450580596923828e-09\n",
      "Количество раз понижения коэффициента за всю программу: 27\n",
      "\n"
     ]
    },
    {
     "data": {
      "image/png": "[encoded data removed]",
      "text/plain": [
       "<Figure size 432x288 with 1 Axes>"
      ]
     },
     "metadata": {
      "needs_background": "light"
     },
     "output_type": "display_data"
    }
   ],
   "source": [
    "N = 99\n",
    "x = np.linspace(0, 1, N + 2)  # N + 1 частей отрезка -> N + 2 точек разбиения\n",
    "h = 1 / (N + 1)\n",
    "u = gradient_descent(N, h, epsilon)\n",
    "plt.plot(x, u, marker='.')\n",
    "plt.xlabel('x')\n",
    "plt.ylabel('u')\n",
    "plt.title(f'Приближенное решение для N = {N}')\n",
    "plt.show()"
   ]
  }
 ],
 "metadata": {
  "kernelspec": {
   "display_name": "Python 3",
   "language": "python",
   "name": "python3"
  },
  "language_info": {
   "codemirror_mode": {
    "name": "ipython",
    "version": 3
   },
   "file_extension": ".py",
   "mimetype": "text/x-python",
   "name": "python",
   "nbconvert_exporter": "python",
   "pygments_lexer": "ipython3",
   "version": "3.8.5"
  }
 },
 "nbformat": 4,
 "nbformat_minor": 5
}
